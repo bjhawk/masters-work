{
 "cells": [
  {
   "cell_type": "code",
   "execution_count": 1,
   "id": "7d428ec2",
   "metadata": {},
   "outputs": [],
   "source": [
    "import numpy as np\n",
    "import pandas as pd"
   ]
  },
  {
   "cell_type": "code",
   "execution_count": null,
   "id": "e4df0870",
   "metadata": {},
   "outputs": [],
   "source": [
    "# See database_helpers.py\n",
    "run database_helpers.py"
   ]
  },
  {
   "cell_type": "code",
   "execution_count": 2,
   "id": "faada81e",
   "metadata": {},
   "outputs": [
    {
     "data": {
      "text/html": [
       "<div>\n",
       "<style scoped>\n",
       "    .dataframe tbody tr th:only-of-type {\n",
       "        vertical-align: middle;\n",
       "    }\n",
       "\n",
       "    .dataframe tbody tr th {\n",
       "        vertical-align: top;\n",
       "    }\n",
       "\n",
       "    .dataframe thead th {\n",
       "        text-align: right;\n",
       "    }\n",
       "</style>\n",
       "<table border=\"1\" class=\"dataframe\">\n",
       "  <thead>\n",
       "    <tr style=\"text-align: right;\">\n",
       "      <th></th>\n",
       "      <th>gear</th>\n",
       "      <th>description</th>\n",
       "    </tr>\n",
       "  </thead>\n",
       "  <tbody>\n",
       "    <tr>\n",
       "      <th>0</th>\n",
       "      <td>bottom trawl</td>\n",
       "      <td>bottom trawl, beam trawl, otter trawl, shrimp ...</td>\n",
       "    </tr>\n",
       "    <tr>\n",
       "      <th>1</th>\n",
       "      <td>gillnets</td>\n",
       "      <td>gillnet, trammel nets</td>\n",
       "    </tr>\n",
       "    <tr>\n",
       "      <th>2</th>\n",
       "      <td>longline</td>\n",
       "      <td>longline, pole and line, hand lines, lines</td>\n",
       "    </tr>\n",
       "    <tr>\n",
       "      <th>3</th>\n",
       "      <td>other</td>\n",
       "      <td>dragged gear, dredge, hand or tools, pots or t...</td>\n",
       "    </tr>\n",
       "    <tr>\n",
       "      <th>4</th>\n",
       "      <td>pelagic trawl</td>\n",
       "      <td>pelagic trawl</td>\n",
       "    </tr>\n",
       "    <tr>\n",
       "      <th>5</th>\n",
       "      <td>purse seine</td>\n",
       "      <td>purse seine, encircling nets</td>\n",
       "    </tr>\n",
       "    <tr>\n",
       "      <th>6</th>\n",
       "      <td>small scale</td>\n",
       "      <td>artisanal fishing gear, recreational fishing g...</td>\n",
       "    </tr>\n",
       "    <tr>\n",
       "      <th>7</th>\n",
       "      <td>unknown</td>\n",
       "      <td>unknown class, unknown by source, unknown by a...</td>\n",
       "    </tr>\n",
       "  </tbody>\n",
       "</table>\n",
       "</div>"
      ],
      "text/plain": [
       "            gear                                        description\n",
       "0   bottom trawl  bottom trawl, beam trawl, otter trawl, shrimp ...\n",
       "1       gillnets                              gillnet, trammel nets\n",
       "2       longline         longline, pole and line, hand lines, lines\n",
       "3          other  dragged gear, dredge, hand or tools, pots or t...\n",
       "4  pelagic trawl                                      pelagic trawl\n",
       "5    purse seine                       purse seine, encircling nets\n",
       "6    small scale  artisanal fishing gear, recreational fishing g...\n",
       "7        unknown  unknown class, unknown by source, unknown by a..."
      ]
     },
     "execution_count": 2,
     "metadata": {},
     "output_type": "execute_result"
    }
   ],
   "source": [
    "# Processing the gear is going to be slightly special. The source data\n",
    "# was available in an ugly markdown table. \"gear\" values are a category,\n",
    "# and \"description\" is really an aggregate of all the possible kinds of\n",
    "# gear that fit that category. So we'll have to expand the right column to\n",
    "# individual values and create a new \"long\" dataset\n",
    "gear_descriptions = pd.read_csv(\"../Data/gear.csv\")\n",
    "gear_descriptions"
   ]
  },
  {
   "cell_type": "code",
   "execution_count": null,
   "id": "c4250d36",
   "metadata": {},
   "outputs": [],
   "source": [
    "gear_expanded = []\n",
    "\n",
    "# Create a row that will be for any unmatchable values in this dimension\n",
    "gear_expanded.append({\"type\": \"Unknown\", \"name\": \"Unknown\"})\n",
    "\n",
    "for gear_description in gear_descriptions.to_dict(\"records\"):\n",
    "    gear_expanded.extend([{\"type\": gear_description[\"gear\"].title(), \"name\": gear.strip().title()} for gear in gear_description[\"description\"].split(\",\")])\n",
    "\n",
    "# Create a dataFrame\n",
    "dim_gear = pd.DataFrame(gear_expanded)\n",
    "\n",
    "# Create an ID column values, using index\n",
    "dim_gear.reset_index(inplace=True)\n",
    "dim_gear.rename(columns={\"index\":\"id\"}, inplace=True)\n",
    "\n",
    "# now insert into the database\n",
    "gearInsertQuery = \"\"\"\n",
    "INSERT INTO \"Dim_Gear\"\n",
    "(\"Id\", \"GearType\", \"GearName\")\n",
    "VALUES\n",
    "%s\n",
    "\"\"\"\n",
    "bulk_insert(gearInsertQuery, dim_gear)"
   ]
  }
 ],
 "metadata": {
  "kernelspec": {
   "display_name": "Python 3 (ipykernel)",
   "language": "python",
   "name": "python3"
  },
  "language_info": {
   "codemirror_mode": {
    "name": "ipython",
    "version": 3
   },
   "file_extension": ".py",
   "mimetype": "text/x-python",
   "name": "python",
   "nbconvert_exporter": "python",
   "pygments_lexer": "ipython3",
   "version": "3.9.7"
  }
 },
 "nbformat": 4,
 "nbformat_minor": 5
}
