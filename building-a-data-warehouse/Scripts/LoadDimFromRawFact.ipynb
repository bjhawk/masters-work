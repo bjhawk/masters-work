{
 "cells": [
  {
   "cell_type": "code",
   "execution_count": null,
   "id": "cebaf000",
   "metadata": {},
   "outputs": [],
   "source": [
    "import pandas as pd"
   ]
  },
  {
   "cell_type": "code",
   "execution_count": null,
   "id": "90b53ae7",
   "metadata": {},
   "outputs": [],
   "source": [
    "# See database_helpers.py\n",
    "run database_helpers.py"
   ]
  },
  {
   "cell_type": "code",
   "execution_count": null,
   "id": "9a30dec7",
   "metadata": {},
   "outputs": [],
   "source": [
    "# A list of dimensions that can be processed directly from raw fact data\n",
    "dims_to_process=[\"year\", \"functional_group\", \"commercial_group\", \"fishing_sector\", \"end_use_type\"]"
   ]
  },
  {
   "cell_type": "code",
   "execution_count": null,
   "id": "197fb75e",
   "metadata": {},
   "outputs": [],
   "source": [
    "# For each of these dimensions, we will pull all the unique values from the raw fact data\n",
    "# and insert them into their dimension tables, providing unique ids for primary key values\n",
    "for dim in dims_to_process:\n",
    "    print(\"Loading {} . . .\".format(dim))\n",
    "    selectQuery=\"\"\"\n",
    "    SELECT DISTINCT \"{}\" from \"Raw_Fact\" ORDER BY \"{}\"\n",
    "    \"\"\".format(dim, dim)\n",
    "    \n",
    "    dim_values = pd.DataFrame(select(selectQuery), columns=[dim])\n",
    "    dim_values.reset_index(inplace=True)\n",
    "    dim_values.rename(columns={\"index\":\"id\"})\n",
    "    \n",
    "    column_name=dim.title().replace(\"_\", \"\") + \"Name\"\n",
    "    if dim == \"year\":\n",
    "        column_name = dim.title()\n",
    "    dim_table_name=\"Dim_{}\".format(dim.title())\n",
    "    insertQuery=\"\"\"\n",
    "    INSERT INTO \"{}\" (\"Id\", \"{}\") VALUES %s\n",
    "    \"\"\".format(dim_table_name, column_name)\n",
    "    \n",
    "    bulk_insert(insertQuery, dim_values)"
   ]
  }
 ],
 "metadata": {
  "kernelspec": {
   "display_name": "Python 3 (ipykernel)",
   "language": "python",
   "name": "python3"
  },
  "language_info": {
   "codemirror_mode": {
    "name": "ipython",
    "version": 3
   },
   "file_extension": ".py",
   "mimetype": "text/x-python",
   "name": "python",
   "nbconvert_exporter": "python",
   "pygments_lexer": "ipython3",
   "version": "3.9.7"
  }
 },
 "nbformat": 4,
 "nbformat_minor": 5
}
