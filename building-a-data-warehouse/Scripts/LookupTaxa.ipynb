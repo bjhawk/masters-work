{
 "cells": [
  {
   "cell_type": "code",
   "execution_count": null,
   "id": "36f05f97",
   "metadata": {},
   "outputs": [],
   "source": [
    "import pandas as pd\n",
    "from wormstools.worms_core import Worms"
   ]
  },
  {
   "cell_type": "code",
   "execution_count": null,
   "id": "5029bede",
   "metadata": {},
   "outputs": [],
   "source": [
    "# See database_helpers.py\n",
    "run database_helpers.py"
   ]
  },
  {
   "cell_type": "code",
   "execution_count": null,
   "id": "5fb13637",
   "metadata": {},
   "outputs": [],
   "source": [
    "# First, get all of the species names from the raw data\n",
    "species = select(\"\"\"\n",
    "SELECT DISTINCT \"scientific_name\" from \"Raw_Fact\";\n",
    "\"\"\")\n",
    "species = [row[0] for row in species]"
   ]
  },
  {
   "cell_type": "code",
   "execution_count": null,
   "id": "9abcf872",
   "metadata": {},
   "outputs": [],
   "source": [
    "# This is the list of ranks we will access, not every lookup will have every level\n",
    "taxonomic_ranks = [\"Kingdom\", \"Phylum\", \"Class\", \"Order\", \"Family\", \"Genus\"]\n",
    "# Create a container for the data from lookups\n",
    "taxonomicData = pd.DataFrame({}, columns=taxonomic_ranks + [\"Species\"])\n",
    "\n",
    "# then iterate through lookup calls and build the taxa table data\n",
    "# There are >2000 species, this takes some time!\n",
    "for speciesName in species:\n",
    "    # get an specific taxonomic rank\n",
    "    lookup = Worms(taxon = speciesName)\n",
    "    lookup.get_taxonomic_ranges()\n",
    "    try:\n",
    "        speciesData = {rank:(lookup.get_rank(rank) if rank in lookup.taxonomic_ranges else None) for rank in taxonomic_ranks}\n",
    "        speciesData['Species'] = speciesName\n",
    "        taxonomicData = taxonomicData.append(pd.DataFrame([speciesData]))\n",
    "    except:\n",
    "        print(\"Species not found `{}`\".format(speciesName))"
   ]
  },
  {
   "cell_type": "code",
   "execution_count": null,
   "id": "c35b1274",
   "metadata": {},
   "outputs": [],
   "source": [
    "# Write this data to file, Other steps in the ETL pipeline\n",
    "# will insert this data into the table\n",
    "taxonomicData.to_csv(\"../Data/taxonomy.csv\")"
   ]
  }
 ],
 "metadata": {
  "kernelspec": {
   "display_name": "Python 3 (ipykernel)",
   "language": "python",
   "name": "python3"
  },
  "language_info": {
   "codemirror_mode": {
    "name": "ipython",
    "version": 3
   },
   "file_extension": ".py",
   "mimetype": "text/x-python",
   "name": "python",
   "nbconvert_exporter": "python",
   "pygments_lexer": "ipython3",
   "version": "3.9.7"
  }
 },
 "nbformat": 4,
 "nbformat_minor": 5
}
