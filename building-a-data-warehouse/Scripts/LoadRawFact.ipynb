{
 "cells": [
  {
   "cell_type": "code",
   "execution_count": null,
   "id": "b6f9e1c0",
   "metadata": {},
   "outputs": [],
   "source": [
    "import pandas as pd\n",
    "import glob"
   ]
  },
  {
   "cell_type": "code",
   "execution_count": null,
   "id": "a2a553de",
   "metadata": {},
   "outputs": [],
   "source": [
    "# See database_helpers.py\n",
    "run database_helpers.py"
   ]
  },
  {
   "cell_type": "code",
   "execution_count": null,
   "id": "3ea6ae1f",
   "metadata": {
    "scrolled": true
   },
   "outputs": [],
   "source": [
    "rawFactQuery=\"\"\"\n",
    "INSERT INTO \"Raw_Fact\"\n",
    "(\n",
    "    \"area_name\",\n",
    "    \"area_type\",\n",
    "    \"data_layer\",\n",
    "    \"uncertainty_score\",\n",
    "    \"year\",\n",
    "    \"scientific_name\",\n",
    "    \"common_name\",\n",
    "    \"functional_group\",\n",
    "    \"commercial_group\",\n",
    "    \"fishing_entity\",\n",
    "    \"fishing_sector\",\n",
    "    \"catch_type\",\n",
    "    \"reporting_status\",\n",
    "    \"gear_type\",\n",
    "    \"end_use_type\",\n",
    "    \"tonnes\",\n",
    "    \"landed_value\",\n",
    "    \"source_file\"\n",
    ")\n",
    "VALUES\n",
    "%s\n",
    "\"\"\"\n",
    "\n",
    "# Read each raw fact file individually and bulk insert into the corresponding table\n",
    "for fileName in glob.iglob(\"../Data/[0-9]*.csv\"):\n",
    "    data = pd.read_csv(\"../Data/{}\".format(fileName))\n",
    "    data[\"source_file\"] = [fileName] * len(data.index)\n",
    "    \n",
    "    print(\"Importing raw file {}, {} rows. . .\".format(fileName, data.shape[0]))\n",
    "\n",
    "    bulk_insert(rawFactQuery, data, 10000)"
   ]
  }
 ],
 "metadata": {
  "kernelspec": {
   "display_name": "Python 3 (ipykernel)",
   "language": "python",
   "name": "python3"
  },
  "language_info": {
   "codemirror_mode": {
    "name": "ipython",
    "version": 3
   },
   "file_extension": ".py",
   "mimetype": "text/x-python",
   "name": "python",
   "nbconvert_exporter": "python",
   "pygments_lexer": "ipython3",
   "version": "3.9.7"
  }
 },
 "nbformat": 4,
 "nbformat_minor": 5
}
