{
 "cells": [
  {
   "cell_type": "code",
   "execution_count": null,
   "id": "1da2c138",
   "metadata": {},
   "outputs": [],
   "source": [
    "import numpy as np\n",
    "import pandas as pd"
   ]
  },
  {
   "cell_type": "code",
   "execution_count": null,
   "id": "316c3bdf",
   "metadata": {},
   "outputs": [],
   "source": [
    "# See database_helpers.py\n",
    "run database_helpers.py"
   ]
  },
  {
   "cell_type": "code",
   "execution_count": null,
   "id": "06c2dbd3",
   "metadata": {},
   "outputs": [],
   "source": [
    "# Read the taxonomy data gathered in a separate script\n",
    "taxa = pd.read_csv(\"../Data/taxonomy.csv\")"
   ]
  },
  {
   "cell_type": "code",
   "execution_count": null,
   "id": "eb8003c1",
   "metadata": {},
   "outputs": [],
   "source": [
    "# We want to drop the Kingdom column, since it is all Animalia and not useful information\n",
    "taxa.drop(columns=[\"kingdom\"], inplace=True)"
   ]
  },
  {
   "cell_type": "code",
   "execution_count": null,
   "id": "6bb08c56",
   "metadata": {},
   "outputs": [],
   "source": [
    "# Now we need to grab the last column from the Fact data source, since it is not provided\n",
    "# in the taxonomic data\n",
    "common_names = pd.read_csv(\"../Data/all_data.csv\", usecols=[\"scientific_name\", \"common_name\"])\n",
    "common_names.rename(columns={\"scientific_name\":\"species\", \"common_name\":\"commonname\"}, inplace=True)\n",
    "\n",
    "# Gather just the unique rows, and merge them into our master taxa df\n",
    "common_names.drop_duplicates(inplace = True)\n",
    "\n",
    "taxa = taxa.merge(common_names)\n",
    "taxa.head()"
   ]
  },
  {
   "cell_type": "code",
   "execution_count": null,
   "id": "004dde67",
   "metadata": {},
   "outputs": [],
   "source": [
    "# One final record should be created to capture \"unidentified\" taxa,\n",
    "# or taxa that do not have a matching taxonomy in this table when the\n",
    "# fact data is loaded\n",
    "unidentified = {col:None for col in taxa.columns.to_list()}\n",
    "unidentified[\"species\"] = \"Unclassified Taxon\"\n",
    "unidentified[\"commonname\"] = \"No Classification\"\n",
    "\n",
    "taxa = pd.concat([pd.DataFrame([unidentified]), taxa], ignore_index=True)"
   ]
  },
  {
   "cell_type": "code",
   "execution_count": null,
   "id": "a95a8d26",
   "metadata": {},
   "outputs": [],
   "source": [
    "# This is effectively an historic load, so we need to provide an Id value\n",
    "taxa.reset_index(inplace=True)\n",
    "taxa.rename(columns = {\"index\": \"id\"}, inplace=True)\n",
    "\n",
    "# Lastly, instead of importing strings reading NaN into our databse, import NULL values\n",
    "taxa.replace(np.nan, None, inplace=True)"
   ]
  },
  {
   "cell_type": "code",
   "execution_count": null,
   "id": "6689e6a4",
   "metadata": {
    "scrolled": false
   },
   "outputs": [],
   "source": [
    "# Bulk load taxonomy data using bulk insert function\n",
    "dimTaxaInsertQuery = \"\"\"\n",
    "INSERT INTO \"Dim_Taxon\"\n",
    "(\"Id\", \"Phylum\", \"Class\", \"Order\", \"Family\", \"Genus\", \"Species\", \"CommonName\")\n",
    "VALUES\n",
    "%s\n",
    "\"\"\"\n",
    "bulk_insert(dimTaxaInsertQuery, taxa)"
   ]
  }
 ],
 "metadata": {
  "kernelspec": {
   "display_name": "Python 3 (ipykernel)",
   "language": "python",
   "name": "python3"
  },
  "language_info": {
   "codemirror_mode": {
    "name": "ipython",
    "version": 3
   },
   "file_extension": ".py",
   "mimetype": "text/x-python",
   "name": "python",
   "nbconvert_exporter": "python",
   "pygments_lexer": "ipython3",
   "version": "3.9.7"
  }
 },
 "nbformat": 4,
 "nbformat_minor": 5
}
