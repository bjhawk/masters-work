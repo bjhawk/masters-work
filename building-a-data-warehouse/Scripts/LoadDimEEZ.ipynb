{
 "cells": [
  {
   "cell_type": "code",
   "execution_count": null,
   "id": "29b10507",
   "metadata": {},
   "outputs": [],
   "source": [
    "import pandas as pd\n",
    "import numpy as np"
   ]
  },
  {
   "cell_type": "code",
   "execution_count": null,
   "id": "b794dec9",
   "metadata": {},
   "outputs": [],
   "source": [
    "# See database_helpers.py\n",
    "run database_helpers.py"
   ]
  },
  {
   "cell_type": "code",
   "execution_count": null,
   "id": "1dafee34",
   "metadata": {},
   "outputs": [],
   "source": [
    "# This csv does not have column names, as it was scraped on a lower level using\n",
    "# curl and some json shell commands\n",
    "eez_data = pd.read_csv(\"../Data/eez_countries.csv\", header=None, names=[\"EEZ\", \"Name\", \"AltName\", \"HDICountryName\"])"
   ]
  },
  {
   "cell_type": "code",
   "execution_count": null,
   "id": "25302bb8",
   "metadata": {},
   "outputs": [],
   "source": [
    "# Even though the EEZs are unique IDs, we will be assigning a surrogate key for consistency's sake\n",
    "eez_data.reset_index(inplace=True)\n",
    "eez_data.rename(columns={\"index\":\"Id\"})\n",
    "\n",
    "# Now load the data\n",
    "eezInsertQuery=\"\"\"\n",
    "INSERT INTO \"Dim_EEZ\"\n",
    "(\"Id\", \"EEZ\", \"EEZName\", \"EEZAltName\", \"HDICountryName\")\n",
    "VALUES\n",
    "%s\n",
    "\"\"\"\n",
    "\n",
    "bulk_insert(eezInsertQuery, eez_data)"
   ]
  }
 ],
 "metadata": {
  "kernelspec": {
   "display_name": "Python 3 (ipykernel)",
   "language": "python",
   "name": "python3"
  },
  "language_info": {
   "codemirror_mode": {
    "name": "ipython",
    "version": 3
   },
   "file_extension": ".py",
   "mimetype": "text/x-python",
   "name": "python",
   "nbconvert_exporter": "python",
   "pygments_lexer": "ipython3",
   "version": "3.9.7"
  }
 },
 "nbformat": 4,
 "nbformat_minor": 5
}
